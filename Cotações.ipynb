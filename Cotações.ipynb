{
  "nbformat": 4,
  "nbformat_minor": 0,
  "metadata": {
    "colab": {
      "provenance": []
    },
    "kernelspec": {
      "name": "python3",
      "display_name": "Python 3"
    },
    "language_info": {
      "name": "python"
    }
  },
  "cells": [
    {
      "cell_type": "code",
      "source": [
        "#Importando as bibliotecas\n",
        "import requests\n",
        "import json\n",
        "\n",
        "#Escolha a moeda que se deseja buscar a cotação\n",
        "while True:\n",
        "  print(\"\"\"Escolha a moeda:\n",
        "    1. Dólar\n",
        "    2. Euro\n",
        "    3. Bitcoin\"\"\")\n",
        "\n",
        "  escolha = int(input(\"Digite aqui: \"))\n",
        "\n",
        "  if escolha == 1:\n",
        "    moeda = 'USDBRL'\n",
        "    break\n",
        "  elif escolha == 2:\n",
        "    moeda = 'EURBRL'\n",
        "    break\n",
        "  elif escolha == 3:\n",
        "    moeda = 'BTCBRL'\n",
        "    break\n",
        "  else:\n",
        "    print('Moeda inválida!')\n",
        "\n",
        "#Url da API\n",
        "url = 'https://economia.awesomeapi.com.br/json/last/'+ moeda[0:3] +'-'+ moeda[3:6]\n",
        "\n",
        "#Capturando a cotação\n",
        "cotacao = requests.get(url).content\n",
        "\n",
        "#Extraindo a cotação\n",
        "dic = json.loads(cotacao)\n",
        "\n",
        "#Exibindo os resultados em tela\n",
        "print()\n",
        "print(dic[moeda][\"name\"])\n",
        "data_hora = dic[moeda][\"create_date\"]\n",
        "print('Última cotação em:')\n",
        "print(f'dia: {data_hora[8:10]}/{data_hora[5:7]}/{data_hora[0:4]}')\n",
        "print(f'Horário:{data_hora[10:19]}')\n",
        "print(f'Cotação: {dic[moeda][\"bid\"]}')\n"
      ],
      "metadata": {
        "colab": {
          "base_uri": "https://localhost:8080/"
        },
        "id": "dgTYArVh00CW",
        "outputId": "68516d3a-2509-4eed-ff5d-b12bad577f6a"
      },
      "execution_count": 1,
      "outputs": [
        {
          "output_type": "stream",
          "name": "stdout",
          "text": [
            "Escolha a moeda:\n",
            "    1. Dólar\n",
            "    2. Euro\n",
            "    3. Bitcoin\n",
            "Digite aqui: 1\n",
            "\n",
            "Dólar Americano/Real Brasileiro\n",
            "Última cotação em:\n",
            "dia: 03/05/2024\n",
            "Horário: 17:59:54\n",
            "Cotação: 5.0723\n"
          ]
        }
      ]
    },
    {
      "cell_type": "code",
      "source": [
        "#Função para retornar apenas o valor da cotação\n",
        "def cotacao(escolha=1):\n",
        "  #Importando as bibliotecas\n",
        "  import requests\n",
        "  import json\n",
        "\n",
        "  #Escolha da moeda que se deseja buscar a cotação\n",
        "  if escolha == 1:\n",
        "    moeda = 'USDBRL'\n",
        "  elif escolha == 2:\n",
        "    moeda = 'EURBRL'\n",
        "  elif escolha == 3:\n",
        "    moeda = 'BTCBRL'\n",
        "  else:\n",
        "    return 'Moeda inválida!'\n",
        "\n",
        "  #Url da API\n",
        "  url = 'https://economia.awesomeapi.com.br/json/last/'+ moeda[0:3] +'-'+ moeda[3:6]\n",
        "\n",
        "  #Capturando a cotação\n",
        "  cotacao = requests.get(url).content\n",
        "\n",
        "  #Extraindo a cotação\n",
        "  dic = json.loads(cotacao)\n",
        "\n",
        "  #Exibindo os resultados em tela\n",
        "  return float(dic[moeda][\"bid\"])"
      ],
      "metadata": {
        "id": "fvE8u4Ij00HO"
      },
      "execution_count": 3,
      "outputs": []
    },
    {
      "cell_type": "code",
      "source": [
        "cotacao(2)"
      ],
      "metadata": {
        "colab": {
          "base_uri": "https://localhost:8080/"
        },
        "id": "FjCQlEsDfTzM",
        "outputId": "d0bceea2-4f52-4541-e7c1-8e10f200f35c"
      },
      "execution_count": 4,
      "outputs": [
        {
          "output_type": "execute_result",
          "data": {
            "text/plain": [
              "5.4528"
            ]
          },
          "metadata": {},
          "execution_count": 4
        }
      ]
    }
  ]
}