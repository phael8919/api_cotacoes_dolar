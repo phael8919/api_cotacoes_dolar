{
  "nbformat": 4,
  "nbformat_minor": 0,
  "metadata": {
    "colab": {
      "provenance": [],
      "authorship_tag": "ABX9TyPXELQTScyOnBFXY3aauMWL",
      "include_colab_link": true
    },
    "kernelspec": {
      "name": "python3",
      "display_name": "Python 3"
    },
    "language_info": {
      "name": "python"
    }
  },
  "cells": [
    {
      "cell_type": "markdown",
      "metadata": {
        "id": "view-in-github",
        "colab_type": "text"
      },
      "source": [
        "<a href=\"https://colab.research.google.com/github/phael8919/api_cotacoes_dolar/blob/main/Cota%C3%A7%C3%B5es.ipynb\" target=\"_parent\"><img src=\"https://colab.research.google.com/assets/colab-badge.svg\" alt=\"Open In Colab\"/></a>"
      ]
    },
    {
      "cell_type": "code",
      "source": [
        "#Importando as bibliotecas\n",
        "import requests\n",
        "import json\n",
        "\n",
        "#Escolha a moeda que se deseja buscar a cotação\n",
        "while True:\n",
        "  print(\"\"\"EScolha a moeda:\n",
        "    1. Dólar\n",
        "    2. Euro\n",
        "    3. Bitcoin\"\"\")\n",
        "\n",
        "  escolha = int(input(\"Digite aqui: \"))\n",
        "\n",
        "  if escolha == 1:\n",
        "    moeda = 'USDBRL'\n",
        "    break\n",
        "  elif escolha == 2:\n",
        "    moeda = 'EURBRL'\n",
        "    break\n",
        "  elif escolha == 3:\n",
        "    moeda = 'BTCBRL'\n",
        "    break\n",
        "  else:\n",
        "    print('Moeda inválida!')\n",
        "\n",
        "#Url da API\n",
        "url = 'https://economia.awesomeapi.com.br/json/last/'+ moeda[0:3] +'-'+ moeda[3:6]\n",
        "\n",
        "#Capturando a cotação\n",
        "cotacao = requests.get(url).content\n",
        "\n",
        "#Extraindo a cotação\n",
        "dic = json.loads(cotacao)\n",
        "\n",
        "#Exibindo os resultados em tela\n",
        "print()\n",
        "print(dic[moeda][\"name\"])\n",
        "data_hora = dic[moeda][\"create_date\"]\n",
        "print('Última cotação em:')\n",
        "print(f'dia: {data_hora[8:10]}/{data_hora[5:7]}/{data_hora[0:4]}')\n",
        "print(f'Horário:{data_hora[10:19]}')\n",
        "print(f'Cotação: {dic[moeda][\"bid\"]}')\n"
      ],
      "metadata": {
        "colab": {
          "base_uri": "https://localhost:8080/"
        },
        "id": "dgTYArVh00CW",
        "outputId": "20d1d15c-0bb0-4c26-da4b-c236d69ad41f"
      },
      "execution_count": null,
      "outputs": [
        {
          "output_type": "stream",
          "name": "stdout",
          "text": [
            "EScolha a moeda:\n",
            "    1. Dólar\n",
            "    2. Euro\n",
            "    3. Bitcoin\n",
            "Digite aqui: 1\n",
            "\n",
            "Dólar Americano/Real Brasileiro\n",
            "Última cotação em:\n",
            "dia: 23/04/2024\n",
            "Horário: 13:09:57\n",
            "Cotação: 5.1459\n"
          ]
        }
      ]
    },
    {
      "cell_type": "code",
      "source": [
        "#Função para retornar apenas o valor da cotação\n",
        "def cotacao(escolha=1):\n",
        "  #Importando as bibliotecas\n",
        "  import requests\n",
        "  import json\n",
        "\n",
        "  #Escolha da moeda que se deseja buscar a cotação\n",
        "  if escolha == 1:\n",
        "    moeda = 'USDBRL'\n",
        "  elif escolha == 2:\n",
        "    moeda = 'EURBRL'\n",
        "  elif escolha == 3:\n",
        "    moeda = 'BTCBRL'\n",
        "  else:\n",
        "    return 'Moeda inválida!'\n",
        "\n",
        "  #Url da API\n",
        "  url = 'https://economia.awesomeapi.com.br/json/last/'+ moeda[0:3] +'-'+ moeda[3:6]\n",
        "\n",
        "  #Capturando a cotação\n",
        "  cotacao = requests.get(url).content\n",
        "\n",
        "  #Extraindo a cotação\n",
        "  dic = json.loads(cotacao)\n",
        "\n",
        "  #Exibindo os resultados em tela\n",
        "  return float(dic[moeda][\"bid\"])"
      ],
      "metadata": {
        "id": "fvE8u4Ij00HO"
      },
      "execution_count": null,
      "outputs": []
    },
    {
      "cell_type": "code",
      "source": [
        "cotacao(2)"
      ],
      "metadata": {
        "colab": {
          "base_uri": "https://localhost:8080/"
        },
        "id": "FjCQlEsDfTzM",
        "outputId": "e9123b42-f1f0-44be-f057-8e072d3402fb"
      },
      "execution_count": null,
      "outputs": [
        {
          "output_type": "execute_result",
          "data": {
            "text/plain": [
              "5.5004"
            ]
          },
          "metadata": {},
          "execution_count": 4
        }
      ]
    }
  ]
}